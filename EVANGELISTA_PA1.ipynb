{
 "cells": [
  {
   "cell_type": "markdown",
   "id": "c8afc853-7545-4647-8c3e-f1cf91003afc",
   "metadata": {},
   "source": [
    "# ALPHABET SOUP PROBLEM: Create a function that takes a string and returns a string with its letters in alphabetical order"
   ]
  },
  {
   "cell_type": "code",
   "execution_count": 10,
   "id": "6a61e2a4-da06-49d0-bdc8-f2557483c79e",
   "metadata": {},
   "outputs": [
    {
     "name": "stdin",
     "output_type": "stream",
     "text": [
      "Enter a your word:  ElectronicsEngineering\n"
     ]
    },
    {
     "name": "stdout",
     "output_type": "stream",
     "text": [
      "cceeeeeggiiilnnnnorrst\n"
     ]
    }
   ],
   "source": [
    "word = input(\"Enter your word: \")\n",
    "def alphabet_soup(word):\n",
    "\n",
    "    word = word.lower() #Used to set all characters to lower case\n",
    "    \n",
    "    arrange=list(word)\n",
    "    \n",
    "    arrange.sort() #Sorts the list based on the ASCII value of each letter\n",
    "    return ''.join(arrange)\n",
    "print(alphabet_soup(word))"
   ]
  },
  {
   "cell_type": "markdown",
   "id": "6a8ad6d4-cf09-4954-8831-5eee8d604ce5",
   "metadata": {},
   "source": [
    "# EMOTICON PROBLEM: Create a function that changes specific words into emoticons. Given a sentence as a string, replace the words smile, grin, sad and mad with their corresponding emoticon:"
   ]
  },
  {
   "cell_type": "code",
   "execution_count": 37,
   "id": "83e0e7de-8932-4ae5-a08e-043b49057d91",
   "metadata": {},
   "outputs": [
    {
     "name": "stdin",
     "output_type": "stream",
     "text": [
      "Enter a sentence don't be sad\n"
     ]
    },
    {
     "name": "stdout",
     "output_type": "stream",
     "text": [
      "don't be :((\n"
     ]
    }
   ],
   "source": [
    "Sentence = input(\"Enter a sentence\")\n",
    "def emotify(Sentence):\n",
    "\n",
    "    Sentence = Sentence.lower() #makes the sentence all Lower case to check for the required word\n",
    "    \n",
    "    if \"smile\" in Sentence:\n",
    "        Sentence = Sentence.replace(\"smile\", \":)\")\n",
    "    elif \"grin\" in Sentence:\n",
    "        Sentence = Sentence.replace(\"grin\", \":D\")\n",
    "    elif \"sad\" in Sentence:\n",
    "        Sentence = Sentence.replace(\"sad\", \":((\")\n",
    "    elif \"mad\" in Sentence:\n",
    "        Sentence = Sentence.replace(\"mad\", \">:(\")\n",
    "        \n",
    "    print(Sentence)\n",
    "    \n",
    "emotify(Sentence)"
   ]
  },
  {
   "cell_type": "markdown",
   "id": "e806c1b1-027e-45c1-b009-8e2f4ebfcd75",
   "metadata": {},
   "source": [
    "# UNPACKING LIST PROBLEM: Unpack the list writeyourcodehere into three variables, being first, middle, and last, with middle being everything in between the first and last element. Then print all three variables."
   ]
  },
  {
   "cell_type": "code",
   "execution_count": 38,
   "id": "dfeb1880-fce3-4b9e-86dc-d51dbb17ade5",
   "metadata": {},
   "outputs": [
    {
     "name": "stdin",
     "output_type": "stream",
     "text": [
      "Enter elements separated by a space 1 2 3 4 5 6\n"
     ]
    },
    {
     "name": "stdout",
     "output_type": "stream",
     "text": [
      "First:  1\n",
      "Middle:  ['2', '3', '4', '5']\n",
      "last:  6\n"
     ]
    }
   ],
   "source": [
    "writeyourcodehere = input(\"Enter elements separated by a space\")\n",
    "list1 = writeyourcodehere.split()\n",
    "\n",
    "i = len(list1)\n",
    "\n",
    "print(\"First: \",list1[0])\n",
    "print(\"Middle: \", list1[1:i-1])\n",
    "print(\"last: \",list1[i-1])"
   ]
  },
  {
   "cell_type": "code",
   "execution_count": null,
   "id": "557439de-35fe-4928-9541-4d2c1a8d28ca",
   "metadata": {},
   "outputs": [],
   "source": []
  }
 ],
 "metadata": {
  "kernelspec": {
   "display_name": "Python [conda env:base] *",
   "language": "python",
   "name": "conda-base-py"
  },
  "language_info": {
   "codemirror_mode": {
    "name": "ipython",
    "version": 3
   },
   "file_extension": ".py",
   "mimetype": "text/x-python",
   "name": "python",
   "nbconvert_exporter": "python",
   "pygments_lexer": "ipython3",
   "version": "3.13.5"
  }
 },
 "nbformat": 4,
 "nbformat_minor": 5
}
